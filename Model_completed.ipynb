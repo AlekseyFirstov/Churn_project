{
 "cells": [
  {
   "cell_type": "markdown",
   "metadata": {},
   "source": [
    "Данная часть работы выполняется на основе визуального анализа данных, его можно найти в репозитории.\n",
    "\n",
    "Цель работы - разработать модель, позволяющую относить клиента телеком-оператора к одному из классов (отток / не отток) с целью проведения кампании по удержанию клиента. Метрика качества - ROC-AUC и связанный с ней Индекс Джини, что позволяет оценить качество алгоритма в денежном выражении. При разработке алгоритма учитывалась стратегия удержания клиентов, заключающаяся в рассылке смс-писем на личный номер абонента с предложением о скидке на услуги сотовой связи."
   ]
  },
  {
   "cell_type": "code",
   "execution_count": 115,
   "metadata": {},
   "outputs": [],
   "source": [
    "#Импортируем библиотеки\n",
    "import pandas as pd\n",
    "import numpy as np\n",
    "import matplotlib.pyplot as plt\n",
    "import seaborn as sns\n",
    "from collections import defaultdict\n",
    "from category_encoders import OrdinalEncoder, LeaveOneOutEncoder, CatBoostEncoder, TargetEncoder, WOEEncoder, JamesSteinEncoder, OneHotEncoder\n",
    "from sklearn.preprocessing import StandardScaler, KBinsDiscretizer\n",
    "from sklearn.model_selection import train_test_split, cross_val_score,  StratifiedKFold, GridSearchCV\n",
    "from sklearn.base import BaseEstimator, TransformerMixin\n",
    "from catboost import CatBoostClassifier, Pool, cv\n",
    "from sklearn.metrics import roc_auc_score, f1_score, recall_score, precision_score, r2_score\n",
    "from sklearn.pipeline import Pipeline\n",
    "from sklearn.impute import SimpleImputer, MissingIndicator\n",
    "from sklearn.compose import ColumnTransformer\n",
    "from sklearn.model_selection import learning_curve\n",
    "from sklearn.ensemble import GradientBoostingClassifier\n",
    "import xgboost as xgb\n",
    "import lightgbm as lgb\n",
    "import joblib\n",
    "import scipy as sc\n",
    "from scipy import stats\n",
    "from numpy.random import RandomState\n",
    "from statsmodels.stats.weightstats import _zconfint_generic, _tconfint_generic\n",
    "import warnings\n",
    "import itertools\n",
    "warnings.filterwarnings('ignore')\n",
    "%matplotlib inline"
   ]
  },
  {
   "cell_type": "code",
   "execution_count": 2,
   "metadata": {},
   "outputs": [
    {
     "data": {
      "text/html": [
       "<div>\n",
       "<style scoped>\n",
       "    .dataframe tbody tr th:only-of-type {\n",
       "        vertical-align: middle;\n",
       "    }\n",
       "\n",
       "    .dataframe tbody tr th {\n",
       "        vertical-align: top;\n",
       "    }\n",
       "\n",
       "    .dataframe thead th {\n",
       "        text-align: right;\n",
       "    }\n",
       "</style>\n",
       "<table border=\"1\" class=\"dataframe\">\n",
       "  <thead>\n",
       "    <tr style=\"text-align: right;\">\n",
       "      <th></th>\n",
       "      <th>Var6</th>\n",
       "      <th>Var7</th>\n",
       "      <th>Var13</th>\n",
       "      <th>Var21</th>\n",
       "      <th>Var22</th>\n",
       "      <th>Var24</th>\n",
       "      <th>Var25</th>\n",
       "      <th>Var28</th>\n",
       "      <th>Var35</th>\n",
       "      <th>Var38</th>\n",
       "      <th>...</th>\n",
       "      <th>Var189_usnull</th>\n",
       "      <th>Var7_usnull</th>\n",
       "      <th>Var73_usnull</th>\n",
       "      <th>Var126_usnull</th>\n",
       "      <th>Var113_usnull</th>\n",
       "      <th>Var144_usnull</th>\n",
       "      <th>Var13_usnull</th>\n",
       "      <th>Var65_usnull</th>\n",
       "      <th>Var72_usnull</th>\n",
       "      <th>Var81_usnull</th>\n",
       "    </tr>\n",
       "  </thead>\n",
       "  <tbody>\n",
       "    <tr>\n",
       "      <th>0</th>\n",
       "      <td>3052.0</td>\n",
       "      <td>NaN</td>\n",
       "      <td>NaN</td>\n",
       "      <td>480.0</td>\n",
       "      <td>600.0</td>\n",
       "      <td>20.0</td>\n",
       "      <td>480.0</td>\n",
       "      <td>200.00</td>\n",
       "      <td>0.0</td>\n",
       "      <td>82752.0</td>\n",
       "      <td>...</td>\n",
       "      <td>1</td>\n",
       "      <td>1</td>\n",
       "      <td>0</td>\n",
       "      <td>0</td>\n",
       "      <td>0</td>\n",
       "      <td>0</td>\n",
       "      <td>1</td>\n",
       "      <td>1</td>\n",
       "      <td>1</td>\n",
       "      <td>0</td>\n",
       "    </tr>\n",
       "    <tr>\n",
       "      <th>1</th>\n",
       "      <td>1813.0</td>\n",
       "      <td>7.0</td>\n",
       "      <td>636.0</td>\n",
       "      <td>212.0</td>\n",
       "      <td>265.0</td>\n",
       "      <td>2.0</td>\n",
       "      <td>128.0</td>\n",
       "      <td>166.56</td>\n",
       "      <td>0.0</td>\n",
       "      <td>2706120.0</td>\n",
       "      <td>...</td>\n",
       "      <td>0</td>\n",
       "      <td>0</td>\n",
       "      <td>0</td>\n",
       "      <td>0</td>\n",
       "      <td>0</td>\n",
       "      <td>0</td>\n",
       "      <td>0</td>\n",
       "      <td>0</td>\n",
       "      <td>0</td>\n",
       "      <td>0</td>\n",
       "    </tr>\n",
       "    <tr>\n",
       "      <th>2</th>\n",
       "      <td>1953.0</td>\n",
       "      <td>7.0</td>\n",
       "      <td>448.0</td>\n",
       "      <td>176.0</td>\n",
       "      <td>220.0</td>\n",
       "      <td>0.0</td>\n",
       "      <td>72.0</td>\n",
       "      <td>311.76</td>\n",
       "      <td>0.0</td>\n",
       "      <td>4698780.0</td>\n",
       "      <td>...</td>\n",
       "      <td>1</td>\n",
       "      <td>0</td>\n",
       "      <td>0</td>\n",
       "      <td>0</td>\n",
       "      <td>0</td>\n",
       "      <td>0</td>\n",
       "      <td>0</td>\n",
       "      <td>0</td>\n",
       "      <td>0</td>\n",
       "      <td>0</td>\n",
       "    </tr>\n",
       "    <tr>\n",
       "      <th>3</th>\n",
       "      <td>1533.0</td>\n",
       "      <td>7.0</td>\n",
       "      <td>4.0</td>\n",
       "      <td>332.0</td>\n",
       "      <td>415.0</td>\n",
       "      <td>0.0</td>\n",
       "      <td>144.0</td>\n",
       "      <td>220.08</td>\n",
       "      <td>5.0</td>\n",
       "      <td>864384.0</td>\n",
       "      <td>...</td>\n",
       "      <td>1</td>\n",
       "      <td>0</td>\n",
       "      <td>0</td>\n",
       "      <td>1</td>\n",
       "      <td>0</td>\n",
       "      <td>0</td>\n",
       "      <td>0</td>\n",
       "      <td>0</td>\n",
       "      <td>1</td>\n",
       "      <td>0</td>\n",
       "    </tr>\n",
       "    <tr>\n",
       "      <th>4</th>\n",
       "      <td>686.0</td>\n",
       "      <td>7.0</td>\n",
       "      <td>0.0</td>\n",
       "      <td>160.0</td>\n",
       "      <td>200.0</td>\n",
       "      <td>2.0</td>\n",
       "      <td>48.0</td>\n",
       "      <td>278.00</td>\n",
       "      <td>0.0</td>\n",
       "      <td>4364880.0</td>\n",
       "      <td>...</td>\n",
       "      <td>1</td>\n",
       "      <td>0</td>\n",
       "      <td>0</td>\n",
       "      <td>0</td>\n",
       "      <td>0</td>\n",
       "      <td>0</td>\n",
       "      <td>0</td>\n",
       "      <td>0</td>\n",
       "      <td>0</td>\n",
       "      <td>0</td>\n",
       "    </tr>\n",
       "  </tbody>\n",
       "</table>\n",
       "<p>5 rows × 89 columns</p>\n",
       "</div>"
      ],
      "text/plain": [
       "     Var6  Var7  Var13  Var21  Var22  Var24  Var25   Var28  Var35      Var38  \\\n",
       "0  3052.0   NaN    NaN  480.0  600.0   20.0  480.0  200.00    0.0    82752.0   \n",
       "1  1813.0   7.0  636.0  212.0  265.0    2.0  128.0  166.56    0.0  2706120.0   \n",
       "2  1953.0   7.0  448.0  176.0  220.0    0.0   72.0  311.76    0.0  4698780.0   \n",
       "3  1533.0   7.0    4.0  332.0  415.0    0.0  144.0  220.08    5.0   864384.0   \n",
       "4   686.0   7.0    0.0  160.0  200.0    2.0   48.0  278.00    0.0  4364880.0   \n",
       "\n",
       "   ...  Var189_usnull  Var7_usnull  Var73_usnull  Var126_usnull  \\\n",
       "0  ...              1            1             0              0   \n",
       "1  ...              0            0             0              0   \n",
       "2  ...              1            0             0              0   \n",
       "3  ...              1            0             0              1   \n",
       "4  ...              1            0             0              0   \n",
       "\n",
       "   Var113_usnull  Var144_usnull  Var13_usnull  Var65_usnull  Var72_usnull  \\\n",
       "0              0              0             1             1             1   \n",
       "1              0              0             0             0             0   \n",
       "2              0              0             0             0             0   \n",
       "3              0              0             0             0             1   \n",
       "4              0              0             0             0             0   \n",
       "\n",
       "   Var81_usnull  \n",
       "0             0  \n",
       "1             0  \n",
       "2             0  \n",
       "3             0  \n",
       "4             0  \n",
       "\n",
       "[5 rows x 89 columns]"
      ]
     },
     "execution_count": 2,
     "metadata": {},
     "output_type": "execute_result"
    }
   ],
   "source": [
    "#загрузим предобработанные данные\n",
    "X = pd.read_csv('data/data_cleaned.csv')\n",
    "X.head(5)"
   ]
  },
  {
   "cell_type": "code",
   "execution_count": 3,
   "metadata": {},
   "outputs": [],
   "source": [
    "y = pd.read_csv('data/orange_small_churn_labels.train', header=None)\n",
    "y = y.replace({-1:0})"
   ]
  },
  {
   "cell_type": "code",
   "execution_count": 4,
   "metadata": {},
   "outputs": [],
   "source": [
    "#поделим на трейн и тест\n",
    "X_train, X_test, y_train, y_test = train_test_split(X, y, stratify=y, shuffle=True, test_size=0.2, random_state=17)"
   ]
  },
  {
   "cell_type": "markdown",
   "metadata": {},
   "source": [
    "### Определение типа признаков"
   ]
  },
  {
   "cell_type": "markdown",
   "metadata": {},
   "source": [
    "Пока будет пользоваться catboost, он не требует предобработки данных и достаточно хорошо и быстро работает. Оценим как присвоение иного типа признакам (отличного типа от того, что предоставил организатор) влияет на качество при использовании Supervised кодирования"
   ]
  },
  {
   "cell_type": "code",
   "execution_count": 5,
   "metadata": {},
   "outputs": [],
   "source": [
    "#автоматически определим категориальные и числовые признаки\n",
    "num_cols = X_train.dtypes[X_train.dtypes != 'object'].index\n",
    "cat_cols = X_train.dtypes[X_train.dtypes == 'object'].index"
   ]
  },
  {
   "cell_type": "code",
   "execution_count": 6,
   "metadata": {},
   "outputs": [],
   "source": [
    "#базовые значения\n",
    "#заменим пропуски в категориальных на редкие категории\n",
    "X_train_cat = X_train\n",
    "X_train_cat[cat_cols] = X_train_cat[cat_cols].fillna('-999')\n",
    "\n",
    "clf = CatBoostClassifier(random_seed=17, eval_metric='AUC', verbose=False,\n",
    "                        early_stopping_rounds=50, nan_mode='Max', loss_function='Logloss')"
   ]
  },
  {
   "cell_type": "code",
   "execution_count": 35,
   "metadata": {},
   "outputs": [
    {
     "name": "stdout",
     "output_type": "stream",
     "text": [
      "Stopped by overfitting detector  (50 iterations wait)\n"
     ]
    }
   ],
   "source": [
    "cv_results_base = cv(Pool(X_train_cat, y_train, cat_features=cat_cols), clf.get_params(), stratified=True,\n",
    "                     early_stopping_rounds=50, seed=17, plot=False, verbose=False, shuffle=True)"
   ]
  },
  {
   "cell_type": "code",
   "execution_count": 36,
   "metadata": {},
   "outputs": [
    {
     "data": {
      "text/plain": [
       "0.7476679329703843"
      ]
     },
     "execution_count": 36,
     "metadata": {},
     "output_type": "execute_result"
    }
   ],
   "source": [
    "cv_results_base['test-AUC-mean'].max()"
   ]
  },
  {
   "cell_type": "code",
   "execution_count": 7,
   "metadata": {},
   "outputs": [],
   "source": [
    "#добавим новые категориальные признаки\n",
    "new_cat_cols = ['Var173', 'Var143', 'Var7', 'Var181', 'Var44', 'Var72', 'Var144', 'Var35', 'Var78', 'Var65', 'Var132']\n",
    "cat_cols_new = cat_cols.tolist()\n",
    "cat_cols_new = cat_cols_new + new_cat_cols\n",
    "num_cols_new = [x for x in X.columns if x not in cat_cols_new]\n"
   ]
  },
  {
   "cell_type": "code",
   "execution_count": 8,
   "metadata": {},
   "outputs": [],
   "source": [
    "#попробуем добавить признаки, визуально похожие на категориальные и снова проверим качество\n",
    "\n",
    "X_train_cat[cat_cols_new] = X_train_cat[cat_cols_new].fillna('-999')\n",
    "X_train_cat[cat_cols_new] = X_train_cat[cat_cols_new].astype(str)"
   ]
  },
  {
   "cell_type": "code",
   "execution_count": 41,
   "metadata": {},
   "outputs": [
    {
     "name": "stdout",
     "output_type": "stream",
     "text": [
      "Stopped by overfitting detector  (50 iterations wait)\n"
     ]
    }
   ],
   "source": [
    "cv_results_new = cv(Pool(X_train_cat, y_train, cat_features=cat_cols_new), clf.get_params(), stratified=True,\n",
    "                     early_stopping_rounds=50, seed=17, plot=False, verbose=False, shuffle=True)"
   ]
  },
  {
   "cell_type": "code",
   "execution_count": 42,
   "metadata": {},
   "outputs": [
    {
     "data": {
      "text/plain": [
       "0.7482478367466948"
      ]
     },
     "execution_count": 42,
     "metadata": {},
     "output_type": "execute_result"
    }
   ],
   "source": [
    "cv_results_new['test-AUC-mean'].max()"
   ]
  },
  {
   "cell_type": "code",
   "execution_count": 9,
   "metadata": {},
   "outputs": [],
   "source": [
    "cat_cols = cat_cols_new\n",
    "num_cols = num_cols_new"
   ]
  },
  {
   "cell_type": "markdown",
   "metadata": {},
   "source": [
    "В целом результат стал немного лучше, однако полностью ему доверять нельзя. На данном этапе оставим эти признаки и продолжим работу с выборкой"
   ]
  },
  {
   "cell_type": "markdown",
   "metadata": {},
   "source": [
    "### Обработка редких категорий"
   ]
  },
  {
   "cell_type": "markdown",
   "metadata": {},
   "source": [
    "Как было установлено, в категориальных признаках много таких, в которых имются редкие категории, то есть внутри признака какая-то категория встречается не более 1-5 раз. Попробуем их объединять и посмотрим на качество по валидации"
   ]
  },
  {
   "cell_type": "code",
   "execution_count": 44,
   "metadata": {},
   "outputs": [],
   "source": [
    "#Определим класс для обработки редких категорий\n",
    "\n",
    "class RareEncoder(BaseEstimator, TransformerMixin):\n",
    "    '''\n",
    "    Наследуем базовые классы sklearn, связывающие fit_transform\n",
    "    параметр класса threshold - минимальная частота,\n",
    "    при которой не происходит укрупленение категорий\n",
    "    \n",
    "    '''\n",
    "    \n",
    "    def __init__(self, threshold=0.01):\n",
    "        self.d = defaultdict(list)\n",
    "        self.threshold = threshold\n",
    "     #учим кодировщик   \n",
    "    def fit(self, X, y=None):\n",
    "        n_obs = len(X)\n",
    "        for col in X.columns:\n",
    "            #вычисляем частоты\n",
    "            rel_freq = X[col].value_counts(dropna=False) / n_obs\n",
    "            #записываем в словарь\n",
    "            self.d[col] = rel_freq[rel_freq >= self.threshold].index.tolist()\n",
    "            \n",
    "        return self\n",
    "        #тут отрабатывает кодировщик\n",
    "    def transform(self, X):\n",
    "        X = X.copy()#экземпляр датафрейма, чтобы не валились предупреждения\n",
    "            #если переменной категории нет в словаре, значит их частоты ниже порога, тогда отнесем их к классу 'other'\n",
    "        for col in X.columns:\n",
    "            X[col] = np.where(X[col].isin(self.d[col]), X[col], 'other')\n",
    "        return X"
   ]
  },
  {
   "cell_type": "code",
   "execution_count": 45,
   "metadata": {},
   "outputs": [
    {
     "name": "stdout",
     "output_type": "stream",
     "text": [
      "Stopped by overfitting detector  (50 iterations wait)\n",
      "0.742413436334482\n",
      "Stopped by overfitting detector  (50 iterations wait)\n",
      "0.7423243528790687\n",
      "Stopped by overfitting detector  (50 iterations wait)\n",
      "0.7420622735196046\n",
      "Stopped by overfitting detector  (50 iterations wait)\n",
      "0.74077871152135\n",
      "Stopped by overfitting detector  (50 iterations wait)\n",
      "0.739950479522988\n"
     ]
    }
   ],
   "source": [
    "#переберем несколько порогов и посмотрим на результат\n",
    "for thresh in [0.01, 0.02, 0.03, 0.05, 0.1]:\n",
    "    \n",
    "    enlarged_train_x = X_train_cat.copy()\n",
    "    r_encoder = RareEncoder(threshold=thresh)\n",
    "    for col in cat_cols:\n",
    "        r_encoder.fit(enlarged_train_x[[col]])\n",
    "        enlarged_train_x[col] = r_encoder.transform(enlarged_train_x[[col]])\n",
    "    #результат после слияния редких категорий\n",
    "    cv_results = cv(Pool(enlarged_train_x, y_train, cat_features=cat_cols), clf.get_params(), stratified=True,\n",
    "                early_stopping_rounds=50, seed=17, plot=False, verbose=False, shuffle=True)\n",
    "    print(cv_results['test-AUC-mean'].max())"
   ]
  },
  {
   "cell_type": "markdown",
   "metadata": {},
   "source": [
    "Укрупнение категорий понижает качество модели. Далее мы им пользоваться не будем, в итоге датасет будет использоваться для модели в его исходном виде.\n"
   ]
  },
  {
   "cell_type": "markdown",
   "metadata": {},
   "source": [
    "## Отбор признаков"
   ]
  },
  {
   "cell_type": "code",
   "execution_count": 47,
   "metadata": {},
   "outputs": [],
   "source": [
    "#попробуем 2 стратегии отбора признаков\n",
    "#1 - удалим те, которые дают нулевой вклад в модель\n",
    "#2 - вручную перебем колонки и удалим те, которые понижают качество модели\n",
    "X_train_new, X_test_new, y_train_new, y_test_new = train_test_split(X_train_cat, y_train,\n",
    "                                                                    stratify=y_train, shuffle=True, test_size=0.2, random_state=17)\n",
    "\n"
   ]
  },
  {
   "cell_type": "code",
   "execution_count": 48,
   "metadata": {},
   "outputs": [],
   "source": [
    "#модель катбуста\n",
    "def model_catboost(X_train_new, y_train, X_valid, y_valid):\n",
    "    model = CatBoostClassifier(\n",
    "    random_seed=17,\n",
    "    #расчет на ГПУ примерно в 2,5р быстрее (GTX 1050 Ti vs i5 7300HQ)\n",
    "    task_type='GPU',\n",
    "    #ранняя остановка\n",
    "    early_stopping_rounds=200,\n",
    "    #считаем целевую метрику\n",
    "    eval_metric='AUC')\n",
    "    #обучение\n",
    "    model.fit(\n",
    "    X_train_new, train_y,\n",
    "    cat_features=cat_cols,\n",
    "    eval_set=(X_valid, y_valid),\n",
    "    verbose=False)\n",
    "    \n",
    "    return model"
   ]
  },
  {
   "cell_type": "code",
   "execution_count": 49,
   "metadata": {},
   "outputs": [],
   "source": [
    "#обучаем модель\n",
    "model = model_catboost(X_train_new, y_train_new, X_test_new,  y_test_new)"
   ]
  },
  {
   "cell_type": "code",
   "execution_count": 58,
   "metadata": {},
   "outputs": [],
   "source": [
    "#список признаков по их важности\n",
    "feature_scores = pd.DataFrame(list(zip(X_train_new.dtypes.index, model.get_feature_importance(Pool(X_train_new,\n",
    "                                                                                                 label=train_y,\n",
    "                                                                                                 cat_features=cat_cols)))),\n",
    "                             columns=['Feature_name', 'Score'])\n",
    "#соритовка\n",
    "feature_scores = feature_scores.sort_values(by='Score', ascending=False, inplace=False, na_position='last')"
   ]
  },
  {
   "cell_type": "code",
   "execution_count": 59,
   "metadata": {},
   "outputs": [
    {
     "data": {
      "image/png": "[encoded data removed]",
      "text/plain": [
       "<Figure size 864x504 with 1 Axes>"
      ]
     },
     "metadata": {
      "needs_background": "light"
     },
     "output_type": "display_data"
    }
   ],
   "source": [
    "#отрисовка важности признаков\n",
    "plt.rcParams[\"figure.figsize\"] = (12,7)\n",
    "ax = feature_scores.plot('Feature_name', 'Score', kind='bar', color='c')\n",
    "ax.set_title(\"Catboost Feature Importance Ranking\", fontsize = 14)\n",
    "ax.set_xlabel('')\n",
    "\n",
    "rects = ax.patches\n",
    "\n",
    "labels = feature_scores['Score'].round(2)\n",
    "\n",
    "for rect, label in zip(rects, labels):\n",
    "    height = rect.get_height()\n",
    "    ax.text(rect.get_x() + rect.get_width()/2, height + 0.35, label, ha='center', va='bottom')\n",
    "\n",
    "plt.show()"
   ]
  },
  {
   "cell_type": "code",
   "execution_count": 60,
   "metadata": {},
   "outputs": [],
   "source": [
    "#слабые признаки имеются, их выкинем если их важность нулевая\n",
    "features_to_delete = feature_scores[feature_scores['Score'] == 0.0]['Feature_name']\n",
    "features_to_delete = [x for x in features_to_delete]\n",
    "cat_cols = [x for x in cat_cols]\n",
    "num_cols = [x for x in num_cols]"
   ]
  },
  {
   "cell_type": "code",
   "execution_count": 61,
   "metadata": {},
   "outputs": [],
   "source": [
    "#выкинем фичи с нулевой важность по результатам отбора\n",
    "train_x_drop = X_train_cat.drop(features_to_delete, axis=1)\n",
    "#выберем новое пространство категориальных признаков\n",
    "cat_cols_selected = train_x_drop.dtypes[train_x_drop.dtypes=='object'].index\n",
    "num_cols_selected = [x for x in train_x_drop.columns if x not in cat_cols_selected]"
   ]
  },
  {
   "cell_type": "code",
   "execution_count": 62,
   "metadata": {},
   "outputs": [
    {
     "name": "stdout",
     "output_type": "stream",
     "text": [
      "Stopped by overfitting detector  (50 iterations wait)\n"
     ]
    }
   ],
   "source": [
    "cv_results_corrected = cv(Pool(train_x_drop, y_train, cat_features=cat_cols_selected),\n",
    "                          clf.get_params(), stratified=True, early_stopping_rounds=50, seed=17, plot=False, verbose=False)"
   ]
  },
  {
   "cell_type": "code",
   "execution_count": 63,
   "metadata": {},
   "outputs": [
    {
     "name": "stdout",
     "output_type": "stream",
     "text": [
      "Mean result after feature selection =  0.7481691083883867\n",
      "Common result =  0.7482478367466948\n"
     ]
    }
   ],
   "source": [
    "print('Mean result after feature selection = ', cv_results_corrected['test-AUC-mean'].max())\n",
    "print('Common result = ', cv_results_new['test-AUC-mean'].max())"
   ]
  },
  {
   "cell_type": "markdown",
   "metadata": {},
   "source": [
    "Хоть модель и считает признаки бесполезными, судя по всему, в некоторых фолдах она использует данные признаки пусть и где-то в самом конце. Признаки, показывающие наибольшую важность, так же были отмечены как сильно коррелирующие с целевой переменной. Два признака, созданных на этапе EDA, кроме того, помогают улучшить качество модели. "
   ]
  },
  {
   "cell_type": "code",
   "execution_count": 64,
   "metadata": {},
   "outputs": [
    {
     "name": "stdout",
     "output_type": "stream",
     "text": [
      "Stopped by overfitting detector  (50 iterations wait)\n",
      "Stopped by overfitting detector  (50 iterations wait)\n",
      "Stopped by overfitting detector  (50 iterations wait)\n",
      "Stopped by overfitting detector  (50 iterations wait)\n",
      "Stopped by overfitting detector  (50 iterations wait)\n",
      "Stopped by overfitting detector  (50 iterations wait)\n",
      "Stopped by overfitting detector  (50 iterations wait)\n",
      "Stopped by overfitting detector  (50 iterations wait)\n",
      "Stopped by overfitting detector  (50 iterations wait)\n",
      "Stopped by overfitting detector  (50 iterations wait)\n",
      "Stopped by overfitting detector  (50 iterations wait)\n",
      "Stopped by overfitting detector  (50 iterations wait)\n",
      "Stopped by overfitting detector  (50 iterations wait)\n",
      "Stopped by overfitting detector  (50 iterations wait)\n",
      "Stopped by overfitting detector  (50 iterations wait)\n",
      "Stopped by overfitting detector  (50 iterations wait)\n",
      "Stopped by overfitting detector  (50 iterations wait)\n",
      "Stopped by overfitting detector  (50 iterations wait)\n",
      "Stopped by overfitting detector  (50 iterations wait)\n",
      "Stopped by overfitting detector  (50 iterations wait)\n",
      "Stopped by overfitting detector  (50 iterations wait)\n",
      "Stopped by overfitting detector  (50 iterations wait)\n",
      "Stopped by overfitting detector  (50 iterations wait)\n",
      "Stopped by overfitting detector  (50 iterations wait)\n",
      "Stopped by overfitting detector  (50 iterations wait)\n",
      "Stopped by overfitting detector  (50 iterations wait)\n",
      "Stopped by overfitting detector  (50 iterations wait)\n",
      "Stopped by overfitting detector  (50 iterations wait)\n",
      "Stopped by overfitting detector  (50 iterations wait)\n",
      "Stopped by overfitting detector  (50 iterations wait)\n",
      "Stopped by overfitting detector  (50 iterations wait)\n",
      "Stopped by overfitting detector  (50 iterations wait)\n",
      "Stopped by overfitting detector  (50 iterations wait)\n",
      "Stopped by overfitting detector  (50 iterations wait)\n",
      "Stopped by overfitting detector  (50 iterations wait)\n",
      "Stopped by overfitting detector  (50 iterations wait)\n",
      "Stopped by overfitting detector  (50 iterations wait)\n",
      "Stopped by overfitting detector  (50 iterations wait)\n",
      "Stopped by overfitting detector  (50 iterations wait)\n",
      "Stopped by overfitting detector  (50 iterations wait)\n",
      "Stopped by overfitting detector  (50 iterations wait)\n"
     ]
    }
   ],
   "source": [
    "#контейнер для хранения результатов\n",
    "scores_num = []\n",
    "#все числовые признаки, удаляем по очереди одну фичу и смотрим результат\n",
    "#после этого фича возвращается и удаляется следующая\n",
    "for col in num_cols:\n",
    "    #копируем данные\n",
    "    X_train_copy = X_train_cat.copy()\n",
    "    #выбрасываем переменную для определения ее важности\n",
    "    X_train_copy = X_train_copy.drop(col, axis=1)\n",
    "    #выбрасываем переменную для определения ее важности\n",
    "    #обучаем модель на n-1 переменной\n",
    "    cv_results = cv(Pool(X_train_copy, y_train, cat_features=cat_cols), clf.get_params(), stratified=True, early_stopping_rounds=50,\n",
    "               seed=17, plot=False, verbose=False, shuffle=True)\n",
    "    #фиксируем результат модели без данной переменной\n",
    "    scores_num.append((col, cv_results['test-AUC-mean'].max()))\n",
    "\n"
   ]
  },
  {
   "cell_type": "code",
   "execution_count": 65,
   "metadata": {},
   "outputs": [
    {
     "name": "stdout",
     "output_type": "stream",
     "text": [
      "Stopped by overfitting detector  (50 iterations wait)\n",
      "Stopped by overfitting detector  (50 iterations wait)\n",
      "Stopped by overfitting detector  (50 iterations wait)\n",
      "Stopped by overfitting detector  (50 iterations wait)\n",
      "Stopped by overfitting detector  (50 iterations wait)\n",
      "Stopped by overfitting detector  (50 iterations wait)\n",
      "Stopped by overfitting detector  (50 iterations wait)\n",
      "Stopped by overfitting detector  (50 iterations wait)\n",
      "Stopped by overfitting detector  (50 iterations wait)\n",
      "Stopped by overfitting detector  (50 iterations wait)\n",
      "Stopped by overfitting detector  (50 iterations wait)\n",
      "Stopped by overfitting detector  (50 iterations wait)\n",
      "Stopped by overfitting detector  (50 iterations wait)\n",
      "Stopped by overfitting detector  (50 iterations wait)\n",
      "Stopped by overfitting detector  (50 iterations wait)\n",
      "Stopped by overfitting detector  (50 iterations wait)\n",
      "Stopped by overfitting detector  (50 iterations wait)\n",
      "Stopped by overfitting detector  (50 iterations wait)\n",
      "Stopped by overfitting detector  (50 iterations wait)\n",
      "Stopped by overfitting detector  (50 iterations wait)\n",
      "Stopped by overfitting detector  (50 iterations wait)\n",
      "Stopped by overfitting detector  (50 iterations wait)\n",
      "Stopped by overfitting detector  (50 iterations wait)\n",
      "Stopped by overfitting detector  (50 iterations wait)\n",
      "Stopped by overfitting detector  (50 iterations wait)\n",
      "Stopped by overfitting detector  (50 iterations wait)\n",
      "Stopped by overfitting detector  (50 iterations wait)\n",
      "Stopped by overfitting detector  (50 iterations wait)\n",
      "Stopped by overfitting detector  (50 iterations wait)\n",
      "Stopped by overfitting detector  (50 iterations wait)\n",
      "Stopped by overfitting detector  (50 iterations wait)\n",
      "Stopped by overfitting detector  (50 iterations wait)\n",
      "Stopped by overfitting detector  (50 iterations wait)\n",
      "Stopped by overfitting detector  (50 iterations wait)\n",
      "Stopped by overfitting detector  (50 iterations wait)\n",
      "Stopped by overfitting detector  (50 iterations wait)\n",
      "Stopped by overfitting detector  (50 iterations wait)\n",
      "Stopped by overfitting detector  (50 iterations wait)\n",
      "Stopped by overfitting detector  (50 iterations wait)\n",
      "Stopped by overfitting detector  (50 iterations wait)\n",
      "Stopped by overfitting detector  (50 iterations wait)\n",
      "Stopped by overfitting detector  (50 iterations wait)\n",
      "Stopped by overfitting detector  (50 iterations wait)\n",
      "Stopped by overfitting detector  (50 iterations wait)\n"
     ]
    }
   ],
   "source": [
    "#то же самое для всех категориальных признаков\n",
    "scores_cat = []\n",
    "for col in cat_cols:\n",
    "    #копируем данные\n",
    "    X_train_copy = X_train_cat.copy()\n",
    "    #выбрасываем переменную для определения ее важности\n",
    "    X_train_copy = X_train_copy.drop(col, axis=1) \n",
    "    #переопределяем имена категориальных признаков с учетом того, что один был выброшен\n",
    "    cat_cols_copy = X_train_copy.dtypes[X_train_copy.dtypes=='object'].index\n",
    "    num_cols_copy = [x for x in X_train_copy.columns if x not in cat_cols]\n",
    "    #обучаем модель на n-1 переменной\n",
    "    cv_results = cv(Pool(X_train_copy, y_train, cat_features=cat_cols_copy), clf.get_params(), stratified=True, early_stopping_rounds=50,\n",
    "               seed=17, plot=False, verbose=False, shuffle=True)\n",
    "    #фиксируем результат модели без данной переменной\n",
    "    scores_cat.append((col, cv_results['test-AUC-mean'].max()))"
   ]
  },
  {
   "cell_type": "code",
   "execution_count": 68,
   "metadata": {},
   "outputs": [],
   "source": [
    "scores = scores_num + scores_cat"
   ]
  },
  {
   "cell_type": "code",
   "execution_count": 69,
   "metadata": {},
   "outputs": [
    {
     "data": {
      "text/html": [
       "<div>\n",
       "<style scoped>\n",
       "    .dataframe tbody tr th:only-of-type {\n",
       "        vertical-align: middle;\n",
       "    }\n",
       "\n",
       "    .dataframe tbody tr th {\n",
       "        vertical-align: top;\n",
       "    }\n",
       "\n",
       "    .dataframe thead th {\n",
       "        text-align: right;\n",
       "    }\n",
       "</style>\n",
       "<table border=\"1\" class=\"dataframe\">\n",
       "  <thead>\n",
       "    <tr style=\"text-align: right;\">\n",
       "      <th></th>\n",
       "      <th>Var</th>\n",
       "      <th>Score</th>\n",
       "      <th>diff</th>\n",
       "    </tr>\n",
       "  </thead>\n",
       "  <tbody>\n",
       "    <tr>\n",
       "      <th>5</th>\n",
       "      <td>Var25</td>\n",
       "      <td>0.750305</td>\n",
       "      <td>0.002637</td>\n",
       "    </tr>\n",
       "    <tr>\n",
       "      <th>50</th>\n",
       "      <td>Var198</td>\n",
       "      <td>0.749894</td>\n",
       "      <td>0.002226</td>\n",
       "    </tr>\n",
       "    <tr>\n",
       "      <th>31</th>\n",
       "      <td>IsAllNaNs</td>\n",
       "      <td>0.749798</td>\n",
       "      <td>0.002130</td>\n",
       "    </tr>\n",
       "    <tr>\n",
       "      <th>38</th>\n",
       "      <td>Var113_usnull</td>\n",
       "      <td>0.749726</td>\n",
       "      <td>0.002058</td>\n",
       "    </tr>\n",
       "    <tr>\n",
       "      <th>73</th>\n",
       "      <td>Var225</td>\n",
       "      <td>0.749531</td>\n",
       "      <td>0.001863</td>\n",
       "    </tr>\n",
       "    <tr>\n",
       "      <th>...</th>\n",
       "      <td>...</td>\n",
       "      <td>...</td>\n",
       "      <td>...</td>\n",
       "    </tr>\n",
       "    <tr>\n",
       "      <th>57</th>\n",
       "      <td>Var205</td>\n",
       "      <td>0.745920</td>\n",
       "      <td>-0.001748</td>\n",
       "    </tr>\n",
       "    <tr>\n",
       "      <th>51</th>\n",
       "      <td>Var199</td>\n",
       "      <td>0.745043</td>\n",
       "      <td>-0.002625</td>\n",
       "    </tr>\n",
       "    <tr>\n",
       "      <th>30</th>\n",
       "      <td>Var189</td>\n",
       "      <td>0.744831</td>\n",
       "      <td>-0.002837</td>\n",
       "    </tr>\n",
       "    <tr>\n",
       "      <th>18</th>\n",
       "      <td>Var113</td>\n",
       "      <td>0.744505</td>\n",
       "      <td>-0.003163</td>\n",
       "    </tr>\n",
       "    <tr>\n",
       "      <th>22</th>\n",
       "      <td>Var126</td>\n",
       "      <td>0.720399</td>\n",
       "      <td>-0.027269</td>\n",
       "    </tr>\n",
       "  </tbody>\n",
       "</table>\n",
       "<p>89 rows × 3 columns</p>\n",
       "</div>"
      ],
      "text/plain": [
       "              Var     Score      diff\n",
       "5           Var25  0.750305  0.002637\n",
       "50         Var198  0.749894  0.002226\n",
       "31      IsAllNaNs  0.749798  0.002130\n",
       "38  Var113_usnull  0.749726  0.002058\n",
       "73         Var225  0.749531  0.001863\n",
       "..            ...       ...       ...\n",
       "57         Var205  0.745920 -0.001748\n",
       "51         Var199  0.745043 -0.002625\n",
       "30         Var189  0.744831 -0.002837\n",
       "18         Var113  0.744505 -0.003163\n",
       "22         Var126  0.720399 -0.027269\n",
       "\n",
       "[89 rows x 3 columns]"
      ]
     },
     "execution_count": 69,
     "metadata": {},
     "output_type": "execute_result"
    }
   ],
   "source": [
    "#соберем все это в удобный табличный вид\n",
    "scores_table = pd.DataFrame(scores, columns=['Var', 'Score'])\n",
    "base = cv_results_base['test-AUC-mean'].max()\n",
    "scores_table['diff'] = scores_table['Score'] - base\n",
    "scores_table.sort_values(by='diff', ascending=False)"
   ]
  },
  {
   "cell_type": "markdown",
   "metadata": {},
   "source": [
    "Видно, что по важности признак Var126 Так же остается сильно вносящим вклад в модель. Результаты от выброса некоторых признаков отличаются только в 4 знаке, улучшения существенного не происходит.\n"
   ]
  },
  {
   "cell_type": "markdown",
   "metadata": {},
   "source": [
    "### Выбор метода кодирования категориальных признаков"
   ]
  },
  {
   "cell_type": "markdown",
   "metadata": {},
   "source": [
    "Catboost из коробки использует свой метод кодирования, несмещенный catboost-encoder, разработанный специально для данного вида градиентного бустинга) XGBoost/LightGBM не имеет встроенных инструметров и признаки надо предобрабатывать. Существуеют два вида кодировщиков: Supervised/unsupervised. Если для линейных методов первый вид не будет улучшать качество, то для деревьев он будет более предпочтителен. Если кодирование строится на основе зависимой переменной разбиение дерева будет более качественным и для достижения лучшего результата будут нужны менее глубокие деревья. Переберем некоторые виды supervisid и сравним с ordinal и выберем кодировщик для использования в финальной модели."
   ]
  },
  {
   "cell_type": "code",
   "execution_count": 70,
   "metadata": {},
   "outputs": [],
   "source": [
    "#список кодировщиков\n",
    "encoder_list = [OrdinalEncoder,\n",
    "                LeaveOneOutEncoder,\n",
    "                CatBoostEncoder,\n",
    "                TargetEncoder,\n",
    "                WOEEncoder,\n",
    "                JamesSteinEncoder]"
   ]
  },
  {
   "cell_type": "code",
   "execution_count": 71,
   "metadata": {},
   "outputs": [],
   "source": [
    "#определим функцию для сравнения кодировщиков, в качестве алгоритма будет использовать LightGBM из коробки\n",
    "def encode(encoder):\n",
    "\n",
    "    #преобразование для числовых признаков\n",
    "    numeric_transformer = Pipeline(steps=[\n",
    "        ('imputer', SimpleImputer(strategy='mean'))])\n",
    "    #кодировка категориальных\n",
    "    categorical_transformer = Pipeline(steps=[\n",
    "        ('imputer', SimpleImputer(strategy='constant', fill_value='-999')),\n",
    "        ('woe', encoder())])\n",
    "    #трансформер\n",
    "    preprocessor = ColumnTransformer(\n",
    "    transformers=[\n",
    "            ('num', numeric_transformer, num_cols),\n",
    "            ('cat', categorical_transformer, cat_cols)])\n",
    "    #собираем конвеер из двух этапов\n",
    "    pipe = Pipeline(steps=[('preprocessor', preprocessor),\n",
    "                          ('classifier', lgb.LGBMClassifier(random_state=17, metrics='auc', n_jobs=2))])\n",
    "    #будем смотреть на кросс-валидацию по 5 фолдам\n",
    "    cv_results = cross_val_score(pipe, X_train, y_train, cv=StratifiedKFold(n_splits=5, random_state=17, shuffle=True), n_jobs=2,\n",
    "                                    scoring='roc_auc')\n",
    "\n",
    "\n",
    "    return print(encoder, cv_results.mean(), cv_results)"
   ]
  },
  {
   "cell_type": "code",
   "execution_count": 72,
   "metadata": {},
   "outputs": [
    {
     "name": "stdout",
     "output_type": "stream",
     "text": [
      "<class 'category_encoders.ordinal.OrdinalEncoder'> 0.7217428722303026 [0.71998536 0.70692462 0.74098703 0.7272805  0.71353686]\n",
      "<class 'category_encoders.leave_one_out.LeaveOneOutEncoder'> 0.5803692398809337 [0.5648544  0.5666648  0.60280464 0.58638731 0.58113505]\n",
      "<class 'category_encoders.cat_boost.CatBoostEncoder'> 0.65750103408515 [0.63544941 0.6787569  0.61630726 0.67229905 0.68469255]\n",
      "<class 'category_encoders.target_encoder.TargetEncoder'> 0.7287898143494298 [0.72594495 0.72087478 0.73667576 0.73951495 0.72093863]\n",
      "<class 'category_encoders.woe.WOEEncoder'> 0.7302613548271361 [0.72595914 0.72462679 0.73996249 0.74155018 0.71920818]\n",
      "<class 'category_encoders.james_stein.JamesSteinEncoder'> 0.7268729075079479 [0.72631448 0.71374277 0.73593742 0.73941406 0.71895581]\n"
     ]
    }
   ],
   "source": [
    "for encoder in encoder_list:\n",
    "    encode(encoder)"
   ]
  },
  {
   "cell_type": "markdown",
   "metadata": {},
   "source": [
    "Многие supervised кодировщики улучшают прогноз модели. Будем далее пользоваться Target"
   ]
  },
  {
   "cell_type": "markdown",
   "metadata": {},
   "source": [
    "### Подбор гиперпараметров LightGBM/XGBoost"
   ]
  },
  {
   "cell_type": "markdown",
   "metadata": {},
   "source": [
    "Загрузим данные, поскольку при настройке catboost они немного засорились заменами пропусков"
   ]
  },
  {
   "cell_type": "code",
   "execution_count": 10,
   "metadata": {},
   "outputs": [],
   "source": [
    "#создадим цепочку предобработки данных\n",
    "#категориальные признаки\n",
    "cat_pipe = Pipeline([('imputer', SimpleImputer(strategy='constant')),\n",
    "                     ('encoder', TargetEncoder())])\n",
    "#целочисленные признаки\n",
    "num_pipe = Pipeline([('imputer', SimpleImputer(strategy='mean'))])\n",
    "#собираем в трансформер\n",
    "transformer = ColumnTransformer(transformers=[('num', num_pipe, num_cols),\n",
    "                                              ('cat', cat_pipe, cat_cols)])\n",
    "\n",
    "lgb_pipeline = Pipeline([('tr', transformer),\n",
    "                         ('lgb', lgb.LGBMClassifier(random_state=17))])\n",
    "xgb_pipeline = Pipeline([('tr', transformer),\n",
    "                         ('classifier', xgb.XGBClassifier(random_state=17))])"
   ]
  },
  {
   "cell_type": "code",
   "execution_count": 11,
   "metadata": {},
   "outputs": [],
   "source": [
    "import optuna\n",
    "from optuna.samplers import RandomSampler\n",
    "from optuna.integration import OptunaSearchCV\n",
    "from optuna.distributions import LogUniformDistribution, CategoricalDistribution, UniformDistribution, IntUniformDistribution\n",
    "from optuna.visualization import plot_slice, plot_optimization_history, plot_contour\n"
   ]
  },
  {
   "cell_type": "code",
   "execution_count": null,
   "metadata": {},
   "outputs": [],
   "source": [
    "#функция потерь для optuna\n",
    "def objective(trial):\n",
    "    #выбираем из двух классификаторов\n",
    "    classifier_name = trial.suggest_categorical('classifier', ['lightgbm', 'xgboost'])\n",
    "    #параметры XGBoost\n",
    "    if classifier_name == 'xgboost':\n",
    "        params = {\n",
    "            'classifier__max_depth' : int(trial.suggest_loguniform('classifier__max_depth', 2, 32)),\n",
    "            'classifier__n_estimators' : int(trial.suggest_uniform('classifier__n_estimators', 100, 600)),\n",
    "            'classifier__learning_rate' : trial.suggest_loguniform('xclassifier__learning_rate',  1e-3, 1.0),\n",
    "            'classifier__min_child_weight' : trial.suggest_uniform('gb__min_child_weight', 1, 10),\n",
    "            'classifier__gamma' : trial.suggest_loguniform('classifier__gamma', 1e-8, 1.0),\n",
    "            'classifier__max_depta_step' : trial.suggest_uniform('classifier__max_delta_step', 0, 2),\n",
    "            'classifier__subsample' : trial.suggest_uniform('classifier__subsample', 0.5, 1),\n",
    "            'classifier__colsample_bytree' : trial.suggest_uniform('classifier__colsample_bytree', 0.5, 1),\n",
    "            'classifier__reg_lambda' : trial.suggest_uniform('classifier__reg_lambda', 0.5, 1),\n",
    "            'classifier__alpha' : trial.suggest_uniform('classifier_alpha', 0, 1),\n",
    "            'classifier__scale_pos_weight' : trial.suggest_uniform('classifier__scale_pos_weight', 1, 14),\n",
    "            'classifier__grow_policy' : trial.suggest_categorical('classifier__grow_policy', [\"depthwise\", \"lossguide\"]),\n",
    "            'classifier__max_bin': trial.suggest_int('classifier__max_bin', 5, 255),\n",
    "            'tr__cat__imputer__strategy' : trial.suggest_categorical('tr__cat__imputer__strategy', ['most_frequent', 'constant']),\n",
    "            'tr__num__imputer__strategy' : trial.suggest_categorical('tr__num__imputer__strategy', ['mean', 'median', 'constant']),\n",
    "            'tr__cat__encoder__min_samples_leaf' : trial.suggest_int('tr__cat__encoder__min_samples_leaf', 1, 10),\n",
    "            'tr__cat__encoder__smoothing' : trial.suggest_uniform('tr__cat__encoder__smoothing', 1, 10)\n",
    "        }\n",
    "        clf_obj = xgb_pipeline.set_params(**params)\n",
    "    #параметры LightGBM    \n",
    "    if classifier_name == 'lightgbm':\n",
    "        params = {\n",
    "                  'lgb__n_estimators' : trial.suggest_int('lgb__n_estimators', 100, 600),\n",
    "                 'lgb__learning_rate' :  trial.suggest_loguniform('lgb__learning_rate',  1e-3, 1.0),\n",
    "                 'lgb__lambda_l1' : trial.suggest_uniform('lgb__lambda_l1', 0, 1),\n",
    "                 'lgb__bagging_fraction' : trial.suggest_uniform('lgb__bagging_fraction', 0, 1),\n",
    "                 'lgb__num_leaves': trial.suggest_int('lgb__num_leaves', 5, 64),\n",
    "                 'lgb__feature_fraction': trial.suggest_uniform('lgb__feature_fraction', 0, 1),\n",
    "                 'lgb__max_bin': trial.suggest_int('lgb__max_bin', 2, 255),\n",
    "                 'lgb__scale_pos_weight': trial.suggest_uniform('lgb__scale_pos_weight', 1, 14),\n",
    "                 'lgb__sum_hessian_in_leaf': trial.suggest_uniform('lgb__sum_hessian_in_leaf', 1, 20),\n",
    "                 'lgb__boosting': trial.suggest_categorical('lgb__boosting', ['gbdt', 'goss']), \n",
    "                  'tr__cat__imputer__strategy' : trial.suggest_categorical('tr__cat__imputer__strategy', ['most_frequent', 'constant']), \n",
    "                  'tr__num__imputer__strategy' : trial.suggest_categorical('tr__num__imputer__strategy', ['mean', 'median', 'constant']),\n",
    "                'tr__cat__encoder__min_samples_leaf' : trial.suggest_int('tr__cat__encoder__min_samples_leaf', 1, 10),\n",
    "                'tr__cat__encoder__smoothing' : trial.suggest_uniform('tr__cat__encoder__smoothing', 1, 10)\n",
    "                 }        \n",
    "        clf_obj = lgb_pipeline.set_params(**params)\n",
    "        \n",
    "\n",
    "\n",
    "    #функция потерь аналогичная\n",
    "    return cross_val_score(clf_obj, X_train, y_train, cv=StratifiedKFold(n_splits=5, shuffle=True, random_state=17),\n",
    "                           scoring='roc_auc', n_jobs=4).mean()"
   ]
  },
  {
   "cell_type": "code",
   "execution_count": null,
   "metadata": {},
   "outputs": [],
   "source": [
    "sampl = RandomSampler(seed=17)\n",
    "study = optuna.create_study(sampler=sampl, direction='maximize')\n",
    "study.optimize(objective, n_trials=1500)\n",
    "joblib.dump(study, 'study.pkl')"
   ]
  },
  {
   "cell_type": "markdown",
   "metadata": {},
   "source": [
    "### подбор гиперпараметров CatBoost"
   ]
  },
  {
   "cell_type": "code",
   "execution_count": 19,
   "metadata": {},
   "outputs": [],
   "source": [
    "def objective_ctb(trial):\n",
    "    #подготовка данных, разбиение + замена пропусков\n",
    "\n",
    "    params = {\n",
    "        'l2_leaf_reg' : trial.suggest_uniform('l2_leaf_reg', 0, 40),\n",
    "        'learning_rate' : trial.suggest_loguniform('learning_rate', 1e-3, 0.5),\n",
    "        'depth' : trial.suggest_int('depth', 2, 16),\n",
    "        'border_count' : trial.suggest_int('border_count', 32, 255),\n",
    "        'n_estimators' : int(trial.suggest_uniform('n_estimators', 100, 600)),\n",
    "        'colsample_bylevel' : trial.suggest_uniform('colsample_bylevel', 0.3, 1),\n",
    "        'bootstrap_type' : trial.suggest_categorical('bootstrap_type', [\"Bayesian\", \"Bernoulli\", \"MVS\"]),\n",
    "        'grow_policy' : trial.suggest_categorical('grow_policy', ['SymmetricTree', 'Depthwise', 'Lossguide']),\n",
    "        'nan_mode' : trial.suggest_categorical('nan_mode', ['Max', 'Min']),\n",
    "        'eval_metric' : trial.suggest_categorical('eval_metric', ['AUC']),\n",
    "        'loss_function' : trial.suggest_categorical('loss_function', ['Logloss'])\n",
    "    }\n",
    "    \n",
    "    \n",
    "    \n",
    "    if params[\"bootstrap_type\"] == \"Bayesian\":\n",
    "        params[\"bagging_temperature\"] = trial.suggest_uniform(\"bagging_temperature\", 0, 10)\n",
    "        \n",
    "    else:\n",
    "        params[\"bootstrap_type\"] == \"Bernoulli\"\n",
    "        params[\"subsample\"] = trial.suggest_uniform(\"subsample\", 0.1, 1)    \n",
    "            \n",
    "            \n",
    "    if params['grow_policy'] == 'Depthwise' or params['grow_policy'] == 'Lossguide':\n",
    "        params['min_child_samples'] = trial.suggest_int('min_child_samples', 1, 10)\n",
    "        \n",
    "    if params['grow_policy'] == 'Lossguide':\n",
    "        params['num_leaves'] = trial.suggest_int('num_leaves', 12, 64)\n",
    "        \n",
    "    cv_data = cv(Pool(X_train_cat, y_train, cat_features=cat_cols), params=params, verbose=False, stratified=True, seed=17,\n",
    "                early_stopping_rounds=50, shuffle=True)\n",
    "    \n",
    "    best_auc = cv_data['test-AUC-mean'].max()\n",
    "    \n",
    "    return best_auc\n",
    "    "
   ]
  },
  {
   "cell_type": "code",
   "execution_count": null,
   "metadata": {},
   "outputs": [],
   "source": [
    "sampl = RandomSampler(seed=17)\n",
    "study2 = optuna.create_study(sampler=sampl, direction='maximize')\n",
    "study2.optimize(objective_ctb, n_trials=1000)\n",
    "joblib.dump(study2, 'study2.pkl')"
   ]
  },
  {
   "cell_type": "markdown",
   "metadata": {},
   "source": [
    "Подбор гиперпараметров не дал улучшей относительно начального результата. Авторами библиотки указывается, что начальная модель \"из коробки\" дает, как правило, очень сильно решение. Протестируем модель на подготовленной отложенной выборке и оценим результаты.\n",
    "\n",
    "Таким образом на отложенной выборке сравним 3 модели и выберем ту, которую будем использовать далее:\n",
    "* LightGBM с гиперпараметрами\n",
    "* CatBoost с гиперпараметрами\n",
    "* CatBoost из коробки"
   ]
  },
  {
   "cell_type": "markdown",
   "metadata": {},
   "source": [
    "## Сравнение моделей на отложенной выборке"
   ]
  },
  {
   "cell_type": "code",
   "execution_count": 12,
   "metadata": {},
   "outputs": [],
   "source": [
    "#Подготовим данные для катбуст\n",
    "X_test_cat = X_test\n",
    "X_test_cat[cat_cols_new] = X_test_cat[cat_cols_new].fillna('-999')\n",
    "X_test_cat[cat_cols_new] = X_test_cat[cat_cols_new].astype(str)"
   ]
  },
  {
   "cell_type": "code",
   "execution_count": 13,
   "metadata": {},
   "outputs": [
    {
     "data": {
      "text/plain": [
       "True"
      ]
     },
     "execution_count": 13,
     "metadata": {},
     "output_type": "execute_result"
    }
   ],
   "source": [
    "#проверим совпадение колонок воизбежание коллизий\n",
    "all(X_train.columns == X_test.columns)"
   ]
  },
  {
   "cell_type": "code",
   "execution_count": 27,
   "metadata": {},
   "outputs": [],
   "source": [
    "#LightGBM\n",
    "lightgbm_model = joblib.load('study.pkl')\n",
    "lgb_params = lightgbm_model.best_params"
   ]
  },
  {
   "cell_type": "code",
   "execution_count": 28,
   "metadata": {},
   "outputs": [],
   "source": [
    "#удалим ненужные данные\n",
    "del lgb_params['classifier']"
   ]
  },
  {
   "cell_type": "code",
   "execution_count": 32,
   "metadata": {},
   "outputs": [],
   "source": [
    "#передаем настройки в модель\n",
    "lgb_model = lgb_pipeline.set_params(**lgb_params)"
   ]
  },
  {
   "cell_type": "code",
   "execution_count": 38,
   "metadata": {},
   "outputs": [],
   "source": [
    "#CatBoost\n",
    "catboost_model = joblib.load('study2.pkl')\n",
    "ctb_params = catboost_model.best_params"
   ]
  },
  {
   "cell_type": "code",
   "execution_count": 39,
   "metadata": {},
   "outputs": [
    {
     "data": {
      "text/plain": [
       "{'l2_leaf_reg': 4.055018701777726,\n",
       " 'learning_rate': 0.03550169270592124,\n",
       " 'depth': 6,\n",
       " 'border_count': 95,\n",
       " 'n_estimators': 455.5039193767602,\n",
       " 'colsample_bylevel': 0.35715755140260075,\n",
       " 'bootstrap_type': 'MVS',\n",
       " 'grow_policy': 'Lossguide',\n",
       " 'nan_mode': 'Max',\n",
       " 'eval_metric': 'AUC',\n",
       " 'loss_function': 'Logloss',\n",
       " 'subsample': 0.39781312366978006,\n",
       " 'min_child_samples': 6,\n",
       " 'num_leaves': 31}"
      ]
     },
     "execution_count": 39,
     "metadata": {},
     "output_type": "execute_result"
    }
   ],
   "source": [
    "#поправим параметры количество деревьев\n",
    "ctb_params"
   ]
  },
  {
   "cell_type": "code",
   "execution_count": 46,
   "metadata": {},
   "outputs": [],
   "source": [
    "ctb_model = CatBoostClassifier(l2_leaf_reg = 4.055018701777726,\n",
    "                               learning_rate = 0.035501692705921242,\n",
    "                               depth = 6,\n",
    "                               border_count = 95,\n",
    "                               n_estimators = 456,\n",
    "                               colsample_bylevel = 0.35715755140260075,\n",
    "                               bootstrap_type = 'MVS',\n",
    "                               grow_policy = 'Lossguide',\n",
    "                               nan_mode = 'Max',\n",
    "                               eval_metric = 'AUC',\n",
    "                               loss_function = 'Logloss',\n",
    "                               subsample = 0.39781312366978006,\n",
    "                               min_child_samples = 6,\n",
    "                               num_leaves = 31,\n",
    "                               random_seed = 17,\n",
    "                               verbose = False,\n",
    "                               cat_features=cat_cols, early_stopping_rounds=50)"
   ]
  },
  {
   "cell_type": "code",
   "execution_count": 43,
   "metadata": {},
   "outputs": [],
   "source": [
    "#катбуст из коробки\n",
    "ctb_outofbox = CatBoostClassifier(random_seed=17, eval_metric='AUC', verbose=False,\n",
    "                                  early_stopping_rounds=50, nan_mode='Max', loss_function='Logloss', cat_features=cat_cols)"
   ]
  },
  {
   "cell_type": "code",
   "execution_count": 49,
   "metadata": {},
   "outputs": [],
   "source": [
    "#функция оценки качества\n",
    "def model_comparison(model1, model2, model3):\n",
    "    \n",
    "    model1.fit(X_train, y_train)\n",
    "    model2.fit(X_train_cat, y_train)\n",
    "    model3.fit(X_train_cat, y_train)\n",
    "    \n",
    "    auc_1 = roc_auc_score(y_test, model1.predict_proba(X_test)[:, 1])\n",
    "    auc_2 = roc_auc_score(y_test, model2.predict_proba(X_test_cat)[:, 1])\n",
    "    auc_3 = roc_auc_score(y_test, model3.predict_proba(X_test_cat)[:, 1])\n",
    "    \n",
    "    return print('AUC test LightGBM с гиперпараметрами: {}\\n'\n",
    "                'AUC test CatBoost out-of-box: {}\\n'\n",
    "                'AUC test CatBoost с гиперпараметрами: {}'.format(auc_1, auc_2, auc_3))"
   ]
  },
  {
   "cell_type": "code",
   "execution_count": 60,
   "metadata": {},
   "outputs": [
    {
     "name": "stdout",
     "output_type": "stream",
     "text": [
      "AUC test LightGBM с гиперпараметрами: 0.7396374241796652\n",
      "AUC test CatBoost out-of-box: 0.7506168328236089\n",
      "AUC test CatBoost с гиперпараметрами: 0.7464184431368766\n"
     ]
    }
   ],
   "source": [
    "model_comparison(lgb_model, ctb_outofbox, ctb_model)"
   ]
  },
  {
   "cell_type": "markdown",
   "metadata": {},
   "source": [
    "CatBoost достаточно сильно выигрывает у LightGBM, однако чистый и с гиперпараметрами классификаторы показывают результат достаточно близки. Попробуем определить лидера на основе статистических критериев.\n",
    "\n",
    "Проверим есть ли действительно отличия в моделях с помощью статистических критериев. Запустим несколько моделей с разными random_state и оценим качество на выборке."
   ]
  },
  {
   "cell_type": "code",
   "execution_count": 14,
   "metadata": {},
   "outputs": [],
   "source": [
    "ctb_model_results = []\n",
    "ctb_outofbox_results = []\n",
    "for seed in np.arange(0, 310, 10):\n",
    "    #модели\n",
    "    ctb_model = CatBoostClassifier(l2_leaf_reg = 4.055018701777726,\n",
    "                               learning_rate = 0.035501692705921242,\n",
    "                               depth = 6,\n",
    "                               border_count = 95,\n",
    "                               n_estimators = 456,\n",
    "                               colsample_bylevel = 0.35715755140260075,\n",
    "                               bootstrap_type = 'MVS',\n",
    "                               grow_policy = 'Lossguide',\n",
    "                               nan_mode = 'Max',\n",
    "                               eval_metric = 'AUC',\n",
    "                               loss_function = 'Logloss',\n",
    "                               subsample = 0.39781312366978006,\n",
    "                               min_child_samples = 6,\n",
    "                               num_leaves = 31,\n",
    "                               random_seed = seed,\n",
    "                               verbose = False,\n",
    "                               cat_features=cat_cols, early_stopping_rounds=50)\n",
    "    ctb_outofbox = CatBoostClassifier(random_seed=seed, eval_metric='AUC', verbose=False,\n",
    "                                  early_stopping_rounds=50, nan_mode='Max', loss_function='Logloss', cat_features=cat_cols)\n",
    "    \n",
    "    #обучение\n",
    "    ctb_model.fit(X_train_cat, y_train)\n",
    "    ctb_outofbox.fit(X_train_cat, y_train)\n",
    "    #результаты\n",
    "    ctb_model_res = roc_auc_score(y_test, ctb_model.predict_proba(X_test_cat)[:, 1])\n",
    "    ctb_outofbox_res = roc_auc_score(y_test, ctb_outofbox.predict_proba(X_test_cat)[:, 1])\n",
    "    #пишем результат\n",
    "    ctb_model_results.append(ctb_model_res)\n",
    "    ctb_outofbox_results.append(ctb_outofbox_res)"
   ]
  },
  {
   "cell_type": "code",
   "execution_count": 47,
   "metadata": {},
   "outputs": [
    {
     "name": "stdout",
     "output_type": "stream",
     "text": [
      "Средний результат без гиперпараметров=0.7457, станд. отклонение=0.00234\n",
      "Средний результат с гиперпараметрами=0.7471, станд. отклонение=0.00152\n"
     ]
    }
   ],
   "source": [
    "#сравним средние\n",
    "print('Средний результат без гиперпараметров={}, станд. отклонение={}\\n'\n",
    "     'Средний результат с гиперпараметрами={}, станд. отклонение={}'.format(round(np.array(ctb_outofbox_results).mean(), 4), \n",
    "                                                                            round(np.array(ctb_outofbox_results).std(ddof=1), 5),\n",
    "                                                                            round(np.array(ctb_model_results).mean(), 4),\n",
    "                                                                            round(np.array(ctb_model_results).std(ddof=1), 5)))\n",
    "      "
   ]
  },
  {
   "cell_type": "markdown",
   "metadata": {},
   "source": [
    "При данном подходе средний результат с гиперпараметрами лучше при этом стандартное отклонение меньше. Точечная оценка не достаточно надежна, проверим с помощью статистических критериев"
   ]
  },
  {
   "cell_type": "code",
   "execution_count": 31,
   "metadata": {},
   "outputs": [
    {
     "data": {
      "image/png": "[encoded data removed]",
      "text/plain": [
       "<Figure size 1152x504 with 2 Axes>"
      ]
     },
     "metadata": {
      "needs_background": "light"
     },
     "output_type": "display_data"
    },
    {
     "name": "stdout",
     "output_type": "stream",
     "text": [
      "Тест Шапиро-Уилка для модели без гиперпараметров p-value=0.5859202146530151\n",
      "Тест Шапиро-Уилка для модели с гиперпараметрами p-value=0.3811429738998413\n",
      "\n"
     ]
    }
   ],
   "source": [
    "#оценим интервально средние с помощью t-критерия, проверим распределения на нормальность формально и визуально\n",
    "#поскольку t-критерий допускает незначительные отклонения от нормальности\n",
    "plt.figure(figsize=(16,7))\n",
    "plt.subplot(121)\n",
    "sc.stats.probplot(np.array(ctb_outofbox_results), dist=\"norm\", plot=plt)\n",
    "plt.subplot(122)\n",
    "sc.stats.probplot(np.array(ctb_model_results), dist=\"norm\", plot=plt)\n",
    "plt.show()\n",
    "print('Тест Шапиро-Уилка для модели без гиперпараметров p-value={}\\n'\n",
    "     'Тест Шапиро-Уилка для модели с гиперпараметрами p-value={}\\n'.format(stats.shapiro(np.array(ctb_outofbox_results))[1],\n",
    "                                                                          stats.shapiro(np.array(ctb_model_results))[1]))"
   ]
  },
  {
   "cell_type": "markdown",
   "metadata": {},
   "source": [
    "Как видно и визуально и с помощью Теста Шапиро-Уилка можно заключить, что результаты работы обоих моделей имеют нормальное распределение, можно использовать t-тест"
   ]
  },
  {
   "cell_type": "code",
   "execution_count": 32,
   "metadata": {},
   "outputs": [],
   "source": [
    "#сформируем выборочные статистики для удобства\n",
    "model_outofbox_mean = np.array(ctb_outofbox_results).mean()\n",
    "model_outofbox_std = np.array(ctb_outofbox_results).std(ddof=1)\n",
    "model_hyper_mean = np.array(ctb_model_results).mean()\n",
    "model_hyper_std = np.array(ctb_model_results).std(ddof=1)"
   ]
  },
  {
   "cell_type": "code",
   "execution_count": 34,
   "metadata": {},
   "outputs": [
    {
     "name": "stdout",
     "output_type": "stream",
     "text": [
      "95% доверительный интервал для модели без гиперпараметров (0.7409465382679689, 0.7505066697931521)\n",
      "95% доверительный интервал для модели с гиперпараметрами (0.7440104242991484, 0.7502358969995132)\n"
     ]
    }
   ],
   "source": [
    "print(\"95% доверительный интервал для модели без гиперпараметров\", _tconfint_generic(model_outofbox_mean,\n",
    "                                                                                     model_outofbox_std,\n",
    "                                                                                     len(ctb_outofbox_results) - 1,\n",
    "                                                                                     0.05, 'two-sided'))\n",
    "\n",
    "print(\"95% доверительный интервал для модели с гиперпараметрами\", _tconfint_generic(model_hyper_mean,\n",
    "                                                                                    model_hyper_std,\n",
    "                                                                                    len(ctb_model_results) - 1,\n",
    "                                                                                    0.05, 'two-sided'))"
   ]
  },
  {
   "cell_type": "markdown",
   "metadata": {},
   "source": [
    "Интервалы сильно пересекаются, сказать что одна модель в среднем лучше другой нельзя. Воспользуемся t-тестом Стьюдента для связных выборок. Будем проверять нулевую гипотезу о том, что средние моделей равны против двусторонней альтернативы о том, что они не равны.\n",
    "\n",
    "Для начала проверим, что попарные разности двух моделей не сильно отличаются от нормального распределения."
   ]
  },
  {
   "cell_type": "code",
   "execution_count": 36,
   "metadata": {},
   "outputs": [
    {
     "data": {
      "image/png": "[encoded data removed]",
      "text/plain": [
       "<Figure size 432x288 with 1 Axes>"
      ]
     },
     "metadata": {
      "needs_background": "light"
     },
     "output_type": "display_data"
    }
   ],
   "source": [
    "stats.probplot(np.array(ctb_outofbox_results) - np.array(ctb_model_results), dist = \"norm\", plot = plt)\n",
    "plt.show()"
   ]
  },
  {
   "cell_type": "code",
   "execution_count": 38,
   "metadata": {},
   "outputs": [
    {
     "name": "stdout",
     "output_type": "stream",
     "text": [
      "Тест Шапиро-Уилка для разности моделей: 0.942955, p-value: 0.099622\n"
     ]
    }
   ],
   "source": [
    "print(\"Тест Шапиро-Уилка для разности моделей: %f, p-value: %f\" % stats.shapiro(np.array(ctb_outofbox_results) - np.array(ctb_model_results)))"
   ]
  },
  {
   "cell_type": "markdown",
   "metadata": {},
   "source": [
    "На уровне значимости 0,05 гипотеза о нормальности распределения не отвергается, тест Шапиро-Уилка и визуальный анализ позволяют судить о нормальности распределения разности результатов моделей. Проверим гипотезу о равенстве средних двух распределений."
   ]
  },
  {
   "cell_type": "code",
   "execution_count": 39,
   "metadata": {},
   "outputs": [
    {
     "data": {
      "text/plain": [
       "Ttest_relResult(statistic=-2.631000864109118, pvalue=0.013310955047453315)"
      ]
     },
     "execution_count": 39,
     "metadata": {},
     "output_type": "execute_result"
    }
   ],
   "source": [
    "stats.ttest_rel(np.array(ctb_outofbox_results), np.array(ctb_model_results))"
   ]
  },
  {
   "cell_type": "code",
   "execution_count": 52,
   "metadata": {},
   "outputs": [
    {
     "name": "stdout",
     "output_type": "stream",
     "text": [
      "95% доверительный интервал: [0.000313, 0.002481]\n"
     ]
    }
   ],
   "source": [
    "#оценим доверительный интервал разности\n",
    "from statsmodels.stats.weightstats import *\n",
    "print(\"95%% доверительный интервал: [%f, %f]\" % DescrStatsW(np.array(ctb_model_results) - np.array(ctb_outofbox_results)).tconfint_mean())"
   ]
  },
  {
   "cell_type": "markdown",
   "metadata": {},
   "source": [
    "T-тест Стьюдента не позволяет отвергнуть нулевую гипотезу о равенстве средних на уровне значимости 0,05. Однако доверительный интервал для разности долей полностью располагается правее нуля, что говорит о том, что в среднем результаты модели с гиперпараметрами всегда лучше модели без гиперпараметров.\n",
    "\n",
    "Попробуем построить оценки для доверительных интервалов долей и, если будет не достаточно, разности долей для связных выборок.\n",
    "Для начала сформируем выборку данных"
   ]
  },
  {
   "cell_type": "code",
   "execution_count": 96,
   "metadata": {},
   "outputs": [],
   "source": [
    "data = np.vstack((np.array(ctb_outofbox_results), np.array(ctb_model_results)))"
   ]
  },
  {
   "cell_type": "code",
   "execution_count": 97,
   "metadata": {},
   "outputs": [],
   "source": [
    "data = pd.DataFrame(data).T\n",
    "data = data.rename(columns={0:'out_of_box_res', 1:'with_hyper_res'})\n",
    "data['out_of_box_win'] = np.where(data['out_of_box_res']>data['with_hyper_res'], 1, 0)\n",
    "data['with_hyper_win'] = np.where(data['with_hyper_res']>data['out_of_box_res'], 1, 0)"
   ]
  },
  {
   "cell_type": "code",
   "execution_count": 99,
   "metadata": {},
   "outputs": [
    {
     "data": {
      "text/html": [
       "<div>\n",
       "<style scoped>\n",
       "    .dataframe tbody tr th:only-of-type {\n",
       "        vertical-align: middle;\n",
       "    }\n",
       "\n",
       "    .dataframe tbody tr th {\n",
       "        vertical-align: top;\n",
       "    }\n",
       "\n",
       "    .dataframe thead th {\n",
       "        text-align: right;\n",
       "    }\n",
       "</style>\n",
       "<table border=\"1\" class=\"dataframe\">\n",
       "  <thead>\n",
       "    <tr style=\"text-align: right;\">\n",
       "      <th></th>\n",
       "      <th>out_of_box_res</th>\n",
       "      <th>with_hyper_res</th>\n",
       "      <th>out_of_box_win</th>\n",
       "      <th>with_hyper_win</th>\n",
       "    </tr>\n",
       "  </thead>\n",
       "  <tbody>\n",
       "    <tr>\n",
       "      <th>0</th>\n",
       "      <td>0.748294</td>\n",
       "      <td>0.745030</td>\n",
       "      <td>1</td>\n",
       "      <td>0</td>\n",
       "    </tr>\n",
       "    <tr>\n",
       "      <th>1</th>\n",
       "      <td>0.743822</td>\n",
       "      <td>0.745796</td>\n",
       "      <td>0</td>\n",
       "      <td>1</td>\n",
       "    </tr>\n",
       "    <tr>\n",
       "      <th>2</th>\n",
       "      <td>0.749402</td>\n",
       "      <td>0.746039</td>\n",
       "      <td>1</td>\n",
       "      <td>0</td>\n",
       "    </tr>\n",
       "    <tr>\n",
       "      <th>3</th>\n",
       "      <td>0.748036</td>\n",
       "      <td>0.746874</td>\n",
       "      <td>1</td>\n",
       "      <td>0</td>\n",
       "    </tr>\n",
       "    <tr>\n",
       "      <th>4</th>\n",
       "      <td>0.743844</td>\n",
       "      <td>0.748787</td>\n",
       "      <td>0</td>\n",
       "      <td>1</td>\n",
       "    </tr>\n",
       "  </tbody>\n",
       "</table>\n",
       "</div>"
      ],
      "text/plain": [
       "   out_of_box_res  with_hyper_res  out_of_box_win  with_hyper_win\n",
       "0        0.748294        0.745030               1               0\n",
       "1        0.743822        0.745796               0               1\n",
       "2        0.749402        0.746039               1               0\n",
       "3        0.748036        0.746874               1               0\n",
       "4        0.743844        0.748787               0               1"
      ]
     },
     "execution_count": 99,
     "metadata": {},
     "output_type": "execute_result"
    }
   ],
   "source": [
    "data.head(5)"
   ]
  },
  {
   "cell_type": "code",
   "execution_count": 100,
   "metadata": {},
   "outputs": [
    {
     "data": {
      "text/html": [
       "<div>\n",
       "<style scoped>\n",
       "    .dataframe tbody tr th:only-of-type {\n",
       "        vertical-align: middle;\n",
       "    }\n",
       "\n",
       "    .dataframe tbody tr th {\n",
       "        vertical-align: top;\n",
       "    }\n",
       "\n",
       "    .dataframe thead th {\n",
       "        text-align: right;\n",
       "    }\n",
       "</style>\n",
       "<table border=\"1\" class=\"dataframe\">\n",
       "  <thead>\n",
       "    <tr style=\"text-align: right;\">\n",
       "      <th></th>\n",
       "      <th>out_of_box_win</th>\n",
       "      <th>with_hyper_win</th>\n",
       "    </tr>\n",
       "  </thead>\n",
       "  <tbody>\n",
       "    <tr>\n",
       "      <th>count</th>\n",
       "      <td>31.000000</td>\n",
       "      <td>31.000000</td>\n",
       "    </tr>\n",
       "    <tr>\n",
       "      <th>mean</th>\n",
       "      <td>0.290323</td>\n",
       "      <td>0.709677</td>\n",
       "    </tr>\n",
       "    <tr>\n",
       "      <th>std</th>\n",
       "      <td>0.461414</td>\n",
       "      <td>0.461414</td>\n",
       "    </tr>\n",
       "    <tr>\n",
       "      <th>min</th>\n",
       "      <td>0.000000</td>\n",
       "      <td>0.000000</td>\n",
       "    </tr>\n",
       "    <tr>\n",
       "      <th>25%</th>\n",
       "      <td>0.000000</td>\n",
       "      <td>0.000000</td>\n",
       "    </tr>\n",
       "    <tr>\n",
       "      <th>50%</th>\n",
       "      <td>0.000000</td>\n",
       "      <td>1.000000</td>\n",
       "    </tr>\n",
       "    <tr>\n",
       "      <th>75%</th>\n",
       "      <td>1.000000</td>\n",
       "      <td>1.000000</td>\n",
       "    </tr>\n",
       "    <tr>\n",
       "      <th>max</th>\n",
       "      <td>1.000000</td>\n",
       "      <td>1.000000</td>\n",
       "    </tr>\n",
       "  </tbody>\n",
       "</table>\n",
       "</div>"
      ],
      "text/plain": [
       "       out_of_box_win  with_hyper_win\n",
       "count       31.000000       31.000000\n",
       "mean         0.290323        0.709677\n",
       "std          0.461414        0.461414\n",
       "min          0.000000        0.000000\n",
       "25%          0.000000        0.000000\n",
       "50%          0.000000        1.000000\n",
       "75%          1.000000        1.000000\n",
       "max          1.000000        1.000000"
      ]
     },
     "execution_count": 100,
     "metadata": {},
     "output_type": "execute_result"
    }
   ],
   "source": [
    "#интервальные оценки\n",
    "data[['out_of_box_win', 'with_hyper_win']].describe()"
   ]
  },
  {
   "cell_type": "code",
   "execution_count": 108,
   "metadata": {},
   "outputs": [],
   "source": [
    "from statsmodels.stats.proportion import proportion_confint\n",
    "model_out_of_box = proportion_confint(sum(data['out_of_box_win']), \n",
    "                                      np.array(ctb_outofbox_results).shape[0],\n",
    "                                      method = 'wilson')\n",
    "model_hyper = proportion_confint(sum(data['with_hyper_win']),\n",
    "                                 np.array(ctb_outofbox_results).shape[0],\n",
    "                                 method = 'wilson')"
   ]
  },
  {
   "cell_type": "code",
   "execution_count": 109,
   "metadata": {},
   "outputs": [
    {
     "name": "stdout",
     "output_type": "stream",
     "text": [
      "Доверит. интервал модели без гиперпараметров [0.160958, 0.465923]\n",
      "Доверит. интервал модели с гиперпараметрами [0.534077, 0.839042]\n"
     ]
    }
   ],
   "source": [
    "print('Доверит. интервал модели без гиперпараметров [%f, %f]' % model_out_of_box)\n",
    "print('Доверит. интервал модели с гиперпараметрами [%f, %f]' % model_hyper)"
   ]
  },
  {
   "cell_type": "markdown",
   "metadata": {},
   "source": [
    "Доверительный интервал для доли для модели с гиперпараметрами полностью правее модели без гиперпараметров, то есть имеются статистически значимые различия в результатах алгоритмов. Интервальную оценку для разности долей можно не производить. \n",
    "\n",
    "Таким образом результаты следующие:\n",
    "* Распределение результатов работы алгоритмов на отложенной выборке нормальное\n",
    "* Доверительные интервалы пересекаются, выводов в отличии моделей сделать нельзя\n",
    "* Т-тест Стьюдента для зависимых выборок не отвергает нулевую гипотезу о равенстве средних\n",
    "* Доверительный интервал разности средних не содержит нуля, что говорит о существовании статистически значимых различий в средних алгоритмов\n",
    "* Доверительный интервал для долей модели с подбором гиперпараметров полностью правее интервала для модели без гиперпараметров, что говорит о статистически значимых различиях\n",
    "\n",
    "До этого мы пользовались только параметрическими критериями, воспользуемся так же одним непараметрическим перестановочным критерием. Будем проверять нулевую гипотезу о том, что разница матожидания скоров моделей равна нулю (то есть матожидания равны) против двусторонней альтернативы о том, что они не равны. В Python реализации нет, необходимы дополнительный функции "
   ]
  },
  {
   "cell_type": "code",
   "execution_count": 110,
   "metadata": {},
   "outputs": [],
   "source": [
    "#расчет Т-статистики\n",
    "def permutation_t_stat_1sample(sample, mean):\n",
    "    t_stat = sum(list(map(lambda x: x - mean, sample)))\n",
    "    return t_stat"
   ]
  },
  {
   "cell_type": "code",
   "execution_count": 111,
   "metadata": {},
   "outputs": [],
   "source": [
    "#расчет нулевого распределения Т-статистики\n",
    "def permutation_zero_distr_1sample(sample, mean, max_permutations = None):\n",
    "    centered_sample = list(map(lambda x: x - mean, sample))\n",
    "    if max_permutations:\n",
    "        signs_array = set([tuple(x) for x in 2 * np.random.randint(2, size = (max_permutations, \n",
    "                                                                              len(sample))) - 1 ])\n",
    "    else:\n",
    "        signs_array =  itertools.product([-1, 1], repeat = len(sample))\n",
    "    distr = [sum(centered_sample * np.array(signs)) for signs in signs_array]\n",
    "    return distr"
   ]
  },
  {
   "cell_type": "code",
   "execution_count": 116,
   "metadata": {},
   "outputs": [],
   "source": [
    "#реализация перестановочного критерия\n",
    "def permutation_test(sample, mean, max_permutations = None, alternative = 'two-sided'):\n",
    "    if alternative not in ('two-sided', 'less', 'greater'):\n",
    "        raise ValueError(\"alternative not recognized\\n\"\n",
    "                         \"should be 'two-sided', 'less' or 'greater'\")\n",
    "    \n",
    "    t_stat = permutation_t_stat_1sample(sample, mean)\n",
    "    \n",
    "    zero_distr = permutation_zero_distr_1sample(sample, mean, max_permutations)\n",
    "    \n",
    "    if alternative == 'two-sided':\n",
    "        return sum([1. if abs(x) >= abs(t_stat) else 0. for x in zero_distr]) / len(zero_distr)\n",
    "    \n",
    "    if alternative == 'less':\n",
    "        return sum([1. if x <= t_stat else 0. for x in zero_distr]) / len(zero_distr)\n",
    "\n",
    "    if alternative == 'greater':\n",
    "        return sum([1. if x >= t_stat else 0. for x in zero_distr]) / len(zero_distr)"
   ]
  },
  {
   "cell_type": "code",
   "execution_count": 131,
   "metadata": {},
   "outputs": [
    {
     "name": "stdout",
     "output_type": "stream",
     "text": [
      "p-value two-sided: 0.013113\n"
     ]
    }
   ],
   "source": [
    "print(\"p-value two-sided: %f\" % permutation_test(data['with_hyper_res'] - data['out_of_box_res'], 0., max_permutations = 80000))"
   ]
  },
  {
   "cell_type": "code",
   "execution_count": 133,
   "metadata": {},
   "outputs": [
    {
     "name": "stdout",
     "output_type": "stream",
     "text": [
      "p-value greater: 0.007313\n"
     ]
    }
   ],
   "source": [
    "print(\"p-value greater: %f\" % permutation_test(data['with_hyper_res'] - data['out_of_box_res'], 0., max_permutations = 80000,\n",
    "                                              alternative = 'greater'))"
   ]
  },
  {
   "cell_type": "markdown",
   "metadata": {},
   "source": [
    "Двусторонняя альтернатива не позволяет отвергнуть нулевую гипотезу о равенстве средних, однако односторонняя альтернатива о том, что в среднем результат модели с гиперпараметрами не лучше модели без подбора гиперпараметров отвергается на уровне значимости 0,05.\n",
    "\n",
    "С учетом проделанных статистических тестов предлагается использовать модель с подбором гиперпараметров, как дающую лучший результат."
   ]
  },
  {
   "cell_type": "markdown",
   "metadata": {},
   "source": [
    "## Оценка модели с точки зрения экономического эффекта"
   ]
  },
  {
   "cell_type": "markdown",
   "metadata": {},
   "source": [
    "Построим кривые прироста концентрации и количества метки целевого класса в зависимости от взятого объёма выборки."
   ]
  },
  {
   "cell_type": "code",
   "execution_count": 138,
   "metadata": {},
   "outputs": [],
   "source": [
    "import scikitplot as skplt\n",
    "#возвращенные вероятности меток классификатором\n",
    "y_probas = ctb_model.predict_proba(X_test_cat)"
   ]
  },
  {
   "cell_type": "code",
   "execution_count": 139,
   "metadata": {},
   "outputs": [
    {
     "data": {
      "image/png": "[encoded data removed]",
      "text/plain": [
       "<Figure size 432x288 with 1 Axes>"
      ]
     },
     "metadata": {
      "needs_background": "light"
     },
     "output_type": "display_data"
    },
    {
     "data": {
      "image/png": "[encoded data removed]",
      "text/plain": [
       "<Figure size 432x288 with 1 Axes>"
      ]
     },
     "metadata": {
      "needs_background": "light"
     },
     "output_type": "display_data"
    }
   ],
   "source": [
    "#отрисовка кривых\n",
    "skplt.metrics.plot_cumulative_gain(y_test, y_probas)\n",
    "plt.show()\n",
    "\n",
    "skplt.metrics.plot_lift_curve(y_test, y_probas)\n",
    "plt.show()"
   ]
  },
  {
   "cell_type": "markdown",
   "metadata": {},
   "source": [
    "На графике \"Cumulative Gains Curve\" по оси \"x\" отражается объем выборки в %, по оси \"y\" количество меток целевого класса при данном объеме выборки.\n",
    "На графике \"Lift Curve\" по оси \"x\" отражается объем выборки в %, по оси \"y\" на то, во сколько раз при данном объеме выборки меток целевого класса больше согласно ранжированию классификатора, чем при случайно отборе такого же объёма выборки."
   ]
  },
  {
   "cell_type": "markdown",
   "metadata": {},
   "source": [
    "На основе разработанного алгоритма ранжирования клиентов определим, будет ли кампания по удержанию, основанная на работе данного алгоритма, эффективна. Зададим следующие граничные условия:\n",
    "* себестоимость телеком-оператора 65 % выручки от абонента (https://bcs-express.ru/novosti-i-analitika/komu-iz-operatorov-sotovoi-sviazi-klienty-platiat-bol-she-vsego)\n",
    "* средний доход с одного клиента возьмем как среднее по большой тройке операторов (https://www.vedomosti.ru/technology/articles/2019/06/09/803807-tele2-oboshla-megafon) - arpu\n",
    "* средневзвешенное нахождение человека у одного оператора 5 лет\n",
    "* кампания по удержанию заключается в предоставлении скидки на услуги сотовой связи на 1 год в размере 20%, плюс стоимость доставки до человека нашего предложения посредством смс и др 1 р/клиент. \n",
    "* 70% людей, получивших смс, примут предложение остаться у данного оператора\n",
    "\n"
   ]
  },
  {
   "cell_type": "code",
   "execution_count": 140,
   "metadata": {},
   "outputs": [],
   "source": [
    "#всего лояльных клиентов в выборке\n",
    "total_overall = np.unique(y_train, return_counts=True)[1][0]\n",
    "#всего клиентов, склонных к оттоку\n",
    "total_churn = np.unique(y_train, return_counts=True)[1][1]"
   ]
  },
  {
   "cell_type": "code",
   "execution_count": 141,
   "metadata": {},
   "outputs": [],
   "source": [
    "#средний доход с одного клиента \n",
    "arpu = (333 + 323 + 293) / 3\n",
    "#среднее время нахождения человекау одного оператора примем 5 лет\n",
    "lt = 5 * 12\n",
    "#1 - себестоимость\n",
    "self_cost = 0.35\n",
    "#lifetime value от клиента в среднем\n",
    "ltv = arpu * lt * self_cost\n",
    "#вероятность приниятия предложения\n",
    "prob_return = 0.7"
   ]
  },
  {
   "cell_type": "code",
   "execution_count": 142,
   "metadata": {},
   "outputs": [],
   "source": [
    "#порог в первом приближении\n",
    "thresh_churn = 0.8\n",
    "thresh_overall = 0.5\n",
    "#среднее количество реально уходящих клиентов от уровня порога\n",
    "churn_rate = total_churn * thresh_churn\n",
    "#количество неверно определенных к оттоку клиентов при этом же ранжировании\n",
    "overall_rate = total_overall * thresh_overall\n",
    "#скидка за связь\n",
    "discount = 0.2\n",
    "#стоимость удержания одного клиента\n",
    "total_cost = arpu * discount * 12 + 1"
   ]
  },
  {
   "cell_type": "code",
   "execution_count": 144,
   "metadata": {},
   "outputs": [],
   "source": [
    "#посмотрим на выручку в зависимости от порога\n",
    "actual = np.ravel(y_test.values)\n",
    "predicted = ctb_model.predict_proba(X_test_cat)[:, 1]\n",
    "data = zip(actual, predicted)\n",
    "sorted_data = sorted(data, key=lambda d: d[1], reverse=True)\n",
    "sorted_actual = [d[0] for d in sorted_data]\n",
    "cumulative_actual = np.cumsum(sorted_actual) / sum(actual)\n",
    "cumulative_index = np.arange(1, len(cumulative_actual)+1) / len(predicted)"
   ]
  },
  {
   "cell_type": "code",
   "execution_count": 145,
   "metadata": {},
   "outputs": [],
   "source": [
    "#функция возвращающая лучшее значение выручки и пороги при нём\n",
    "def calc_max(t_churn, t_overall):\n",
    "    max_profit = 0\n",
    "    params = []\n",
    "    \n",
    "    for i in range(len(t_churn)):\n",
    "        profit = (ltv * (total_churn * t_churn[i] * prob_return)) - (total_cost * (total_overall * t_overall[i]))\n",
    "         \n",
    "        if profit >= max_profit:\n",
    "            params.clear()\n",
    "            max_profit = profit\n",
    "            params = [t_churn[i], t_overall[i]]\n",
    "    return [max_profit, params]"
   ]
  },
  {
   "cell_type": "code",
   "execution_count": 146,
   "metadata": {},
   "outputs": [],
   "source": [
    "results = calc_max(cumulative_actual, cumulative_index)\n"
   ]
  },
  {
   "cell_type": "code",
   "execution_count": 147,
   "metadata": {},
   "outputs": [
    {
     "name": "stdout",
     "output_type": "stream",
     "text": [
      "Если при проведении кампании по удержанию алгоритм применяется на 8 тысяч человек, наибольший эффект\n",
      "будет достигнут при выборе первых 13.312 % выборки после ранжирования в которых будет 1000 человека склонных к оттоку\n",
      "из 2381 человек склонных к оттоку в исходной выборке и экономический эффект от данной кампании составит 1654562 рублей\n"
     ]
    }
   ],
   "source": [
    "print('Если при проведении кампании по удержанию алгоритм применяется на 8 тысяч человек, наибольший эффект\\n'\n",
    "     'будет достигнут при выборе первых {} % выборки после ранжирования в которых будет {} человека склонных к оттоку\\n'\n",
    "     'из {} человек склонных к оттоку в исходной выборке и экономический эффект от данной кампании составит {} рублей'.format(((round(results[1][1] * 100, 3))),\n",
    "     int(round((total_churn * results[1][0]), 1)), total_churn, int(round(results[0], 1))))"
   ]
  },
  {
   "cell_type": "code",
   "execution_count": 148,
   "metadata": {},
   "outputs": [],
   "source": [
    "#построим график зависимости порога выборки от полученных денег\n",
    "profit = []\n",
    "churn_portion = []\n",
    "overall_portion = []\n",
    "for i in range(len(cumulative_actual)):\n",
    "    money = (ltv * (total_churn * cumulative_actual[i] * prob_return)) - (total_cost * (total_overall * cumulative_index[i]))\n",
    "    profit.append(money)\n",
    "    churn_portion.append(cumulative_actual[i])\n",
    "    overall_portion.append(cumulative_index[i])\n",
    "    "
   ]
  },
  {
   "cell_type": "code",
   "execution_count": 149,
   "metadata": {},
   "outputs": [
    {
     "data": {
      "image/png": "[encoded data removed]",
      "text/plain": [
       "<Figure size 936x576 with 1 Axes>"
      ]
     },
     "metadata": {
      "needs_background": "light"
     },
     "output_type": "display_data"
    }
   ],
   "source": [
    "#отрисовка графика\n",
    "fig, ax = plt.subplots(figsize=(13, 8))\n",
    "ax.plot(overall_portion, profit, label='Прибыль')\n",
    "ax.set_xlabel('Объём выборки, %', fontsize=15)\n",
    "ax.set_ylabel('Чистая прыбыль, руб', fontsize=15)\n",
    "ax.plot(results[1][1], results[0], 'o', color='r', label='Максимум чистой прибыли')\n",
    "ax.grid()\n",
    "ax.legend(fontsize=15)\n",
    "plt.title('Зависимость порога выборки от чистой прыбыли', fontsize=15)\n",
    "plt.show()"
   ]
  },
  {
   "cell_type": "markdown",
   "metadata": {},
   "source": [
    "2. Как видно из графика, чистая прибыль растет до примерно 13% выборки и затем начинает падать. \n",
    "3. Экономическая модель была усложнена, она учитывает прибыль с клиента, себестоимость услуг, вероятность принятия предложения клиентом.\n",
    "4. Как видно из графика, применение модели не всегда экономически целесообразно. Порог надо подбирать качествено с учетом максимизации прибыли.\n",
    "5. Оценить как качество модели повлияет на чистую прибыль в денежном выражении не представляется возможным, поскольку мы используем ранжирование как критерий выбора топа, смоделировать ранжирование по целевой метрике в зависимости увеличения точности модели для оценки денег не выйдет. Очевидно одно, что при увеличении точности ранжирование в топе должно увеличиваться и модель должна показывать еще больший прирост концентрации метки целевого класса в топе\n",
    "6. Вложение средств в данную модель экономически целесообразно при верном выборе порога, в таком случае можно получить чистую прибыль.\n",
    "7. Данный алгоритм при использовании колл-центра можно использовать по иному, применяя его на k человек, где k - количество операторов, задействованных в удержании клиентов. В данном случае предпочтительной метрикой для оценки качества будет являться precision@k, однако это медленнее и дороже, чем предложенный подход."
   ]
  },
  {
   "cell_type": "markdown",
   "metadata": {},
   "source": [
    "Предложение по тестированию алгоритма на реальных пользователях.\n",
    "\n",
    "1. Необходимо выбрать некоторый % пользователей (допустим 2%) и поделить их на две группы.\n",
    "2. В одной группе при удержании использовать алгоритм случайного сэмлирования, то есть генератором случайных чисел выбирать тех людей, которые планируют уйти. В другой группе использовать предложенный алгоритм.\n",
    "3. Далее сравнить качество по метрике. В качестве метрики можно использовать \"среднее количество пользователей, склонных к оттоку в выборке\". Данный критерий можно проверить с помощью метода доверительных интервалов для доли, проряя нулевую гипотезу о том, что количество людей при применении алгоритма не изменилось, против односторонней или двусторонней альтернативы, сформировав выборку формата [1, 1, 0, 0, 1...]. Так же следует на постоянной основе производить А/А тесты, что позволит сделать А/Б тесты более устойчивыми.\n",
    "4. При накоплении статистики по среднему количеству пользователей склонных к оттоку, возможно использовать другие критерии проверки, например метод бутсрапа, тест манна-уитни, перестановочный критерий.\n",
    "5. Рекомендуется производить переобучение алгоритма при поступлении новых данных, поскольку пользовательское поведение обычно достаточно сильно подвержено изменениям."
   ]
  },
  {
   "cell_type": "markdown",
   "metadata": {},
   "source": [
    "## Возможности улучшения алгоритма"
   ]
  },
  {
   "cell_type": "code",
   "execution_count": 154,
   "metadata": {},
   "outputs": [],
   "source": [
    "#подготовим данные для катбуста, возьмем всю выборку\n",
    "df = pd.concat((X_train_cat, X_test_cat))\n",
    "y = pd.concat((y_train, y_test))"
   ]
  },
  {
   "cell_type": "code",
   "execution_count": 155,
   "metadata": {},
   "outputs": [
    {
     "data": {
      "image/png": "[encoded data removed]",
      "text/plain": [
       "<Figure size 864x432 with 1 Axes>"
      ]
     },
     "metadata": {
      "needs_background": "light"
     },
     "output_type": "display_data"
    }
   ],
   "source": [
    "#посмотрим как объём выборки влияет на качество, возможно необходимо увеличить количество данных для обучения\n",
    "train_sizes, train_scores, test_scores = learning_curve(ctb_model, df, y, cv=StratifiedKFold(), scoring='roc_auc',\n",
    "                                                       train_sizes=[0.1, 0.2, 0.3, 0.4, 0.5, 0.6, 0.7, 0.8, 0.9, 1])\n",
    "plt.figure(figsize=(12,6))\n",
    "plt.plot(train_sizes, train_scores.mean(axis=1), label=u\"Обучающая выборка\")\n",
    "plt.plot(train_sizes, test_scores.mean(axis=1), label=u\"Тест\")\n",
    "plt.xlabel(u'Размер выборки')\n",
    "plt.ylabel(u'ROC AUC')\n",
    "plt.legend(loc=\"best\")\n",
    "plt.grid()\n",
    "plt.show()"
   ]
  },
  {
   "cell_type": "markdown",
   "metadata": {},
   "source": [
    "Увеличение объёма данных не поможет существенно улучшить качество модели, качество на тесте выходит на асимптоту. \n",
    "Прирост качества модели можно добиться за счет следующих действий:\n",
    "1. Деанонимизации фичей, что позволит выполнить более детальный анализ и визуализацию данных, сделать более сильные признаки и удалить шумовые.\n",
    "2. Сделать выборку данных более \"числой\". В данных слишком много пропусков, необходимо понять их природу и обрабатывать определенным образом.\n",
    "3. Попробовать использовать другие модели, например нейронные сети.\n",
    "\n"
   ]
  }
 ],
 "metadata": {
  "kernelspec": {
   "display_name": "Python 3",
   "language": "python",
   "name": "python3"
  },
  "language_info": {
   "codemirror_mode": {
    "name": "ipython",
    "version": 3
   },
   "file_extension": ".py",
   "mimetype": "text/x-python",
   "name": "python",
   "nbconvert_exporter": "python",
   "pygments_lexer": "ipython3",
   "version": "3.8.3"
  }
 },
 "nbformat": 4,
 "nbformat_minor": 4
}
